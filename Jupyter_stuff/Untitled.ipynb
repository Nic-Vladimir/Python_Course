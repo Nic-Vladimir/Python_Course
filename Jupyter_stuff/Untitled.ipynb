{
 "cells": [
  {
   "cell_type": "code",
   "execution_count": 3,
   "id": "6f8e8362-2b41-4edc-9d08-21ffe7dfaff2",
   "metadata": {},
   "outputs": [
    {
     "data": {
      "text/plain": [
       "5"
      ]
     },
     "execution_count": 3,
     "metadata": {},
     "output_type": "execute_result"
    }
   ],
   "source": [
    "1+4\n"
   ]
  },
  {
   "cell_type": "code",
   "execution_count": 5,
   "id": "049b38fb-4696-450d-be07-ea2bb19aee6b",
   "metadata": {},
   "outputs": [
    {
     "name": "stdout",
     "output_type": "stream",
     "text": [
      "Hello, I am a cell!\n"
     ]
    }
   ],
   "source": [
    "print(\"Hello, I am a cell!\")"
   ]
  },
  {
   "cell_type": "code",
   "execution_count": null,
   "id": "a09d838f-d98c-4bac-b18e-b98b113a2fee",
   "metadata": {},
   "outputs": [],
   "source": []
  }
 ],
 "metadata": {
  "kernelspec": {
   "display_name": "Python 3 (ipykernel)",
   "language": "python",
   "name": "python3"
  },
  "language_info": {
   "codemirror_mode": {
    "name": "ipython",
    "version": 3
   },
   "file_extension": ".py",
   "mimetype": "text/x-python",
   "name": "python",
   "nbconvert_exporter": "python",
   "pygments_lexer": "ipython3",
   "version": "3.11.4"
  }
 },
 "nbformat": 4,
 "nbformat_minor": 5
}
